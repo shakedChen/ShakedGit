{
 "cells": [
  {
   "cell_type": "markdown",
   "metadata": {
    "colab_type": "text",
    "id": "rFiCyWQ-NC5D"
   },
   "source": [
    "# Single Layer LSTM"
   ]
  },
  {
   "cell_type": "code",
   "execution_count": 4,
   "metadata": {
    "colab": {},
    "colab_type": "code",
    "id": "Y20Lud2ZMBhW"
   },
   "outputs": [
    {
     "name": "stdout",
     "output_type": "stream",
     "text": [
      "2.1.0\n"
     ]
    }
   ],
   "source": [
    "from __future__ import absolute_import, division, print_function, unicode_literals\n",
    "\n",
    "\n",
    "import tensorflow_datasets as tfds\n",
    "import tensorflow as tf\n",
    "print(tf.__version__)"
   ]
  },
  {
   "cell_type": "code",
   "execution_count": 5,
   "metadata": {
    "colab": {},
    "colab_type": "code",
    "id": "uAU8g7C0MPZE"
   },
   "outputs": [
    {
     "name": "stdout",
     "output_type": "stream",
     "text": [
      "2.1.0\n"
     ]
    }
   ],
   "source": [
    "import tensorflow_datasets as tfds\n",
    "import tensorflow as tf\n",
    "print(tf.__version__)"
   ]
  },
  {
   "cell_type": "code",
   "execution_count": 25,
   "metadata": {
    "colab": {},
    "colab_type": "code",
    "id": "AW-4Vo4TMUHb"
   },
   "outputs": [
    {
     "name": "stderr",
     "output_type": "stream",
     "text": [
      "WARNING:absl:TFDS datasets with text encoding are deprecated and will be removed in a future version. Instead, you should use the plain text version and tokenize the text using `tensorflow_text` (See: https://www.tensorflow.org/tutorials/tensorflow_text/intro#tfdata_example)\n"
     ]
    }
   ],
   "source": [
    "# Get the data\n",
    "dataset, info = tfds.load('imdb_reviews/subwords8k', with_info=True, as_supervised=True)\n",
    "train_dataset, test_dataset = dataset['train'], dataset['test']"
   ]
  },
  {
   "cell_type": "code",
   "execution_count": 26,
   "metadata": {
    "colab": {},
    "colab_type": "code",
    "id": "DVfhKpHsPOxq"
   },
   "outputs": [],
   "source": [
    "tokenizer = info.features['text'].encoder"
   ]
  },
  {
   "cell_type": "code",
   "execution_count": 27,
   "metadata": {
    "colab": {},
    "colab_type": "code",
    "id": "ffvRUI0_McDS"
   },
   "outputs": [],
   "source": [
    "BUFFER_SIZE = 10000\n",
    "BATCH_SIZE = 64\n",
    "\n",
    "train_dataset = train_dataset.shuffle(BUFFER_SIZE)\n",
    "train_dataset = train_dataset.padded_batch(BATCH_SIZE, tf.compat.v1.data.get_output_shapes(train_dataset))\n",
    "test_dataset = test_dataset.padded_batch(BATCH_SIZE, tf.compat.v1.data.get_output_shapes(test_dataset))"
   ]
  },
  {
   "cell_type": "code",
   "execution_count": 28,
   "metadata": {
    "colab": {},
    "colab_type": "code",
    "id": "FxQooMEkMgur"
   },
   "outputs": [],
   "source": [
    "model = tf.keras.Sequential([\n",
    "    tf.keras.layers.Embedding(tokenizer.vocab_size, 64),\n",
    "    tf.keras.layers.Bidirectional(tf.keras.layers.LSTM(64)),\n",
    "    tf.keras.layers.Dense(64, activation='relu'),\n",
    "    tf.keras.layers.Dense(1, activation='sigmoid')\n",
    "])"
   ]
  },
  {
   "cell_type": "code",
   "execution_count": 29,
   "metadata": {
    "colab": {},
    "colab_type": "code",
    "id": "QKI5dfPgMioL"
   },
   "outputs": [
    {
     "name": "stdout",
     "output_type": "stream",
     "text": [
      "Model: \"sequential_2\"\n",
      "_________________________________________________________________\n",
      "Layer (type)                 Output Shape              Param #   \n",
      "=================================================================\n",
      "embedding_2 (Embedding)      (None, None, 64)          523840    \n",
      "_________________________________________________________________\n",
      "bidirectional_2 (Bidirection (None, 128)               66048     \n",
      "_________________________________________________________________\n",
      "dense_4 (Dense)              (None, 64)                8256      \n",
      "_________________________________________________________________\n",
      "dense_5 (Dense)              (None, 1)                 65        \n",
      "=================================================================\n",
      "Total params: 598,209\n",
      "Trainable params: 598,209\n",
      "Non-trainable params: 0\n",
      "_________________________________________________________________\n"
     ]
    }
   ],
   "source": [
    "model.summary()"
   ]
  },
  {
   "cell_type": "code",
   "execution_count": 30,
   "metadata": {
    "colab": {},
    "colab_type": "code",
    "id": "Uip7QOVzMoMq"
   },
   "outputs": [],
   "source": [
    "model.compile(loss='binary_crossentropy', optimizer='adam', metrics=['accuracy'])"
   ]
  },
  {
   "cell_type": "code",
   "execution_count": null,
   "metadata": {
    "colab": {},
    "colab_type": "code",
    "id": "7mlgzaRDMtF6"
   },
   "outputs": [
    {
     "name": "stdout",
     "output_type": "stream",
     "text": [
      "Epoch 1/10\n",
      "     65/Unknown - 16s 16s/step - loss: 0.6946 - accuracy: 0.42 - 21s 10s/step - loss: 0.6942 - accuracy: 0.46 - 30s 10s/step - loss: 0.6943 - accuracy: 0.46 - 37s 9s/step - loss: 0.6938 - accuracy: 0.4805 - 42s 8s/step - loss: 0.6937 - accuracy: 0.484 - 47s 8s/step - loss: 0.6944 - accuracy: 0.466 - 53s 8s/step - loss: 0.6941 - accuracy: 0.473 - 57s 7s/step - loss: 0.6938 - accuracy: 0.492 - 61s 7s/step - loss: 0.6937 - accuracy: 0.494 - 68s 7s/step - loss: 0.6937 - accuracy: 0.493 - 74s 7s/step - loss: 0.6936 - accuracy: 0.495 - 81s 7s/step - loss: 0.6935 - accuracy: 0.501 - 90s 7s/step - loss: 0.6934 - accuracy: 0.498 - 95s 7s/step - loss: 0.6934 - accuracy: 0.504 - 99s 7s/step - loss: 0.6935 - accuracy: 0.500 - 108s 7s/step - loss: 0.6934 - accuracy: 0.50 - 111s 7s/step - loss: 0.6933 - accuracy: 0.50 - 118s 7s/step - loss: 0.6933 - accuracy: 0.50 - 141s 7s/step - loss: 0.6933 - accuracy: 0.49 - 148s 7s/step - loss: 0.6934 - accuracy: 0.49 - 151s 7s/step - loss: 0.6935 - accuracy: 0.49 - 156s 7s/step - loss: 0.6934 - accuracy: 0.49 - 167s 7s/step - loss: 0.6933 - accuracy: 0.50 - 177s 7s/step - loss: 0.6932 - accuracy: 0.50 - 185s 7s/step - loss: 0.6931 - accuracy: 0.50 - 188s 7s/step - loss: 0.6931 - accuracy: 0.50 - 197s 7s/step - loss: 0.6930 - accuracy: 0.50 - 206s 7s/step - loss: 0.6932 - accuracy: 0.50 - 210s 7s/step - loss: 0.6930 - accuracy: 0.50 - 219s 7s/step - loss: 0.6930 - accuracy: 0.50 - 225s 7s/step - loss: 0.6928 - accuracy: 0.50 - 230s 7s/step - loss: 0.6928 - accuracy: 0.50 - 236s 7s/step - loss: 0.6927 - accuracy: 0.50 - 241s 7s/step - loss: 0.6925 - accuracy: 0.51 - 245s 7s/step - loss: 0.6924 - accuracy: 0.51 - 248s 7s/step - loss: 0.6923 - accuracy: 0.51 - 253s 7s/step - loss: 0.6918 - accuracy: 0.51 - 256s 7s/step - loss: 0.6916 - accuracy: 0.52 - 261s 7s/step - loss: 0.6923 - accuracy: 0.51 - 266s 7s/step - loss: 0.6919 - accuracy: 0.51 - 270s 7s/step - loss: 0.6914 - accuracy: 0.52 - 272s 6s/step - loss: 0.6909 - accuracy: 0.52 - 276s 6s/step - loss: 0.6904 - accuracy: 0.52 - 283s 6s/step - loss: 0.6900 - accuracy: 0.52 - 291s 6s/step - loss: 0.6892 - accuracy: 0.52 - 298s 6s/step - loss: 0.6884 - accuracy: 0.53 - 305s 6s/step - loss: 0.6878 - accuracy: 0.53 - 311s 6s/step - loss: 0.6873 - accuracy: 0.53 - 320s 7s/step - loss: 0.6877 - accuracy: 0.53 - 326s 7s/step - loss: 0.6871 - accuracy: 0.53 - 329s 6s/step - loss: 0.6868 - accuracy: 0.53 - 359s 7s/step - loss: 0.6873 - accuracy: 0.53 - 363s 7s/step - loss: 0.6863 - accuracy: 0.53 - 369s 7s/step - loss: 0.6854 - accuracy: 0.53 - 374s 7s/step - loss: 0.6851 - accuracy: 0.54 - 384s 7s/step - loss: 0.6849 - accuracy: 0.54 - 394s 7s/step - loss: 0.6846 - accuracy: 0.54 - 401s 7s/step - loss: 0.6843 - accuracy: 0.54 - 408s 7s/step - loss: 0.6839 - accuracy: 0.54 - 417s 7s/step - loss: 0.6841 - accuracy: 0.54 - 423s 7s/step - loss: 0.6835 - accuracy: 0.54 - 431s 7s/step - loss: 0.6831 - accuracy: 0.54 - 439s 7s/step - loss: 0.6827 - accuracy: 0.54 - 446s 7s/step - loss: 0.6823 - accuracy: 0.54 - 452s 7s/step - loss: 0.6817 - accuracy: 0.5476"
     ]
    }
   ],
   "source": [
    "NUM_EPOCHS = 10\n",
    "history = model.fit(train_dataset, epochs=NUM_EPOCHS, validation_data=test_dataset)"
   ]
  },
  {
   "cell_type": "code",
   "execution_count": 0,
   "metadata": {
    "colab": {},
    "colab_type": "code",
    "id": "Mp1Z7P9pYRSK"
   },
   "outputs": [],
   "source": [
    "import matplotlib.pyplot as plt\n",
    "\n",
    "\n",
    "def plot_graphs(history, string):\n",
    "  plt.plot(history.history[string])\n",
    "  plt.plot(history.history['val_'+string])\n",
    "  plt.xlabel(\"Epochs\")\n",
    "  plt.ylabel(string)\n",
    "  plt.legend([string, 'val_'+string])\n",
    "  plt.show()"
   ]
  },
  {
   "cell_type": "code",
   "execution_count": 0,
   "metadata": {
    "colab": {},
    "colab_type": "code",
    "id": "R_sX6ilIM515"
   },
   "outputs": [],
   "source": [
    "plot_graphs(history, 'accuracy')"
   ]
  },
  {
   "cell_type": "code",
   "execution_count": 0,
   "metadata": {
    "colab": {},
    "colab_type": "code",
    "id": "RFEXtKtqNARB"
   },
   "outputs": [],
   "source": [
    "plot_graphs(history, 'loss')"
   ]
  }
 ],
 "metadata": {
  "colab": {
   "collapsed_sections": [],
   "name": "Course 3 - Week 3 - Lesson 1a.ipynb",
   "provenance": [],
   "toc_visible": true
  },
  "kernelspec": {
   "display_name": "Python 3",
   "language": "python",
   "name": "python3"
  },
  "language_info": {
   "codemirror_mode": {
    "name": "ipython",
    "version": 3
   },
   "file_extension": ".py",
   "mimetype": "text/x-python",
   "name": "python",
   "nbconvert_exporter": "python",
   "pygments_lexer": "ipython3",
   "version": "3.7.4"
  }
 },
 "nbformat": 4,
 "nbformat_minor": 1
}
