{
 "cells": [
  {
   "cell_type": "code",
   "execution_count": 1,
   "metadata": {},
   "outputs": [],
   "source": [
    "import csv\n",
    "import numpy as np\n",
    "import tensorflow as tf\n",
    "from tensorflow.keras.preprocessing.image import ImageDataGenerator"
   ]
  },
  {
   "cell_type": "code",
   "execution_count": 2,
   "metadata": {},
   "outputs": [
    {
     "name": "stdout",
     "output_type": "stream",
     "text": [
      "(27455, 28, 28)\n",
      "(27455, 25)\n",
      "(7172, 28, 28)\n",
      "(7172, 25)\n"
     ]
    }
   ],
   "source": [
    "def get_data(filename):\n",
    "  # You will need to write code that will read the file passed\n",
    "  # into this function. The first line contains the column headers\n",
    "  # so you should ignore it\n",
    "  # Each successive line contians 785 comma separated values between 0 and 255\n",
    "  # The first value is the label\n",
    "  # The rest are the pixel values for that picture\n",
    "  # The function will return 2 np.array types. One with all the labels\n",
    "  # One with all the images\n",
    "  #\n",
    "  # Tips: \n",
    "  # If you read a full line (as 'row') then row[0] has the label\n",
    "  # and row[1:785] has the 784 pixel values\n",
    "  # Take a look at np.array_split to turn the 784 pixels into 28x28\n",
    "  # You are reading in strings, but need the values to be floats\n",
    "  # Check out np.array().astype for a conversion\n",
    "    with open(filename) as training_file:\n",
    "      images = []\n",
    "      labels = []\n",
    "      csv_f = csv.reader(training_file, quotechar = '|')\n",
    "      next(csv_f) #Skip header\n",
    "      for row in csv_f:\n",
    "        labels.append(float(row[0]))\n",
    "        pixels= list(map(float,row[1:785]))\n",
    "        images.append(np.array_split(pixels,28))\n",
    "      labels= np.array(labels)\n",
    "      images= np.array(images)\n",
    "    return images, labels\n",
    "\n",
    "\n",
    "training_images, training_labels = get_data(r'C:\\Users\\Shaked Chen\\Desktop\\Deep-Learning-Explained-master\\UjiIndoorLoc\\sign_mnist_train.csv')\n",
    "training_labels= tf.keras.utils.to_categorical(training_labels, dtype='float32')\n",
    "    \n",
    "testing_images, testing_labels = get_data(r'C:\\Users\\Shaked Chen\\Desktop\\Deep-Learning-Explained-master\\UjiIndoorLoc\\sign_mnist_test.csv')\n",
    "testing_labels= tf.keras.utils.to_categorical(testing_labels, dtype='float32')\n",
    "# Keep these\n",
    "print(training_images.shape)\n",
    "print(training_labels.shape)\n",
    "print(testing_images.shape)\n",
    "print(testing_labels.shape)\n",
    "\n",
    "# Their output should be:\n",
    "# (27455, 28, 28)\n",
    "# (27455,)\n",
    "# (7172, 28, 28)\n",
    "# (7172,)"
   ]
  },
  {
   "cell_type": "code",
   "execution_count": 3,
   "metadata": {},
   "outputs": [
    {
     "name": "stdout",
     "output_type": "stream",
     "text": [
      "[[0. 0. 0. ... 0. 0. 0.]\n",
      " [0. 0. 0. ... 0. 0. 0.]\n",
      " [0. 0. 1. ... 0. 0. 0.]\n",
      " ...\n",
      " [0. 0. 0. ... 0. 0. 0.]\n",
      " [0. 0. 0. ... 0. 0. 0.]\n",
      " [0. 0. 0. ... 0. 1. 0.]]\n"
     ]
    }
   ],
   "source": [
    "#finding labels numbers ---->\n",
    "print(training_labels)"
   ]
  },
  {
   "cell_type": "code",
   "execution_count": 4,
   "metadata": {},
   "outputs": [
    {
     "name": "stdout",
     "output_type": "stream",
     "text": [
      "(28, 28, 1)\n",
      "(7172, 28, 28, 1)\n"
     ]
    }
   ],
   "source": [
    "# In this section you will have to add another dimension to the data\n",
    "# So, for example, if your array is (10000, 28, 28)\n",
    "# You will need to make it (10000, 28, 28, 1)\n",
    "# Hint: np.expand_dims\n",
    "\n",
    "training_images = np.expand_dims(training_images, axis=3)\n",
    "testing_images = np.expand_dims(testing_images, axis=3)\n",
    "\n",
    "# Create an ImageDataGenerator and do Image Augmentation\n",
    "train_datagen = ImageDataGenerator(\n",
    "      rescale = 1./255,\n",
    "\t  rotation_range=20,\n",
    "      width_shift_range=0.2,\n",
    "      height_shift_range=0.2,\n",
    "      shear_range=0.2,\n",
    "      zoom_range=0.2,\n",
    "      horizontal_flip=True,\n",
    "      fill_mode='nearest')\n",
    "\n",
    "validation_datagen = ImageDataGenerator(rescale = 1./255)\n",
    "\n",
    "\n",
    "# Keep These\n",
    "print(training_images[0].shape)\n",
    "print(testing_images.shape)\n",
    "    \n",
    "# Their output should be:\n",
    "# (27455, 28, 28, 1)\n",
    "# (7172, 28, 28, 1)"
   ]
  },
  {
   "cell_type": "code",
   "execution_count": 11,
   "metadata": {},
   "outputs": [
    {
     "name": "stdout",
     "output_type": "stream",
     "text": [
      "WARNING:tensorflow:sample_weight modes were coerced from\n",
      "  ...\n",
      "    to  \n",
      "  ['...']\n",
      "WARNING:tensorflow:sample_weight modes were coerced from\n",
      "  ...\n",
      "    to  \n",
      "  ['...']\n",
      "Train for 1 steps, validate for 225 steps\n",
      "Epoch 1/30\n",
      "1/1 [==============================] - 3s 3s/step - loss: 3.2971 - accuracy: 0.0000e+00 - val_loss: 3.2220 - val_accuracy: 0.0192\n",
      "Epoch 2/30\n",
      "1/1 [==============================] - 2s 2s/step - loss: 3.2447 - accuracy: 0.0000e+00 - val_loss: 3.2208 - val_accuracy: 0.0184\n",
      "Epoch 3/30\n",
      "1/1 [==============================] - 2s 2s/step - loss: 3.2956 - accuracy: 0.0000e+00 - val_loss: 3.2250 - val_accuracy: 0.0213\n",
      "Epoch 4/30\n",
      "1/1 [==============================] - 2s 2s/step - loss: 3.2807 - accuracy: 0.0000e+00 - val_loss: 3.2252 - val_accuracy: 0.0480\n",
      "Epoch 5/30\n",
      "1/1 [==============================] - 2s 2s/step - loss: 3.1361 - accuracy: 0.0000e+00 - val_loss: 3.2245 - val_accuracy: 0.0482\n",
      "Epoch 6/30\n",
      "1/1 [==============================] - 3s 3s/step - loss: 3.1626 - accuracy: 0.0000e+00 - val_loss: 3.2288 - val_accuracy: 0.0390\n",
      "Epoch 7/30\n",
      "1/1 [==============================] - 2s 2s/step - loss: 3.2184 - accuracy: 0.0000e+00 - val_loss: 3.2294 - val_accuracy: 0.0376\n",
      "Epoch 8/30\n",
      "1/1 [==============================] - 3s 3s/step - loss: 3.2803 - accuracy: 0.0000e+00 - val_loss: 3.2284 - val_accuracy: 0.0481\n",
      "Epoch 9/30\n",
      "1/1 [==============================] - 3s 3s/step - loss: 3.2090 - accuracy: 0.0000e+00 - val_loss: 3.2288 - val_accuracy: 0.0482\n",
      "Epoch 10/30\n",
      "1/1 [==============================] - 3s 3s/step - loss: 3.2748 - accuracy: 0.0000e+00 - val_loss: 3.2269 - val_accuracy: 0.0482\n",
      "Epoch 11/30\n",
      "1/1 [==============================] - 3s 3s/step - loss: 3.3098 - accuracy: 0.0000e+00 - val_loss: 3.2256 - val_accuracy: 0.0482\n",
      "Epoch 12/30\n",
      "1/1 [==============================] - 3s 3s/step - loss: 3.1383 - accuracy: 0.0000e+00 - val_loss: 3.2262 - val_accuracy: 0.0216\n",
      "Epoch 13/30\n",
      "1/1 [==============================] - 3s 3s/step - loss: 3.1298 - accuracy: 0.0000e+00 - val_loss: 3.2310 - val_accuracy: 0.0201\n",
      "Epoch 14/30\n",
      "1/1 [==============================] - 2s 2s/step - loss: 3.2734 - accuracy: 0.0000e+00 - val_loss: 3.2323 - val_accuracy: 0.0201\n",
      "Epoch 15/30\n",
      "1/1 [==============================] - 2s 2s/step - loss: 3.1774 - accuracy: 0.0000e+00 - val_loss: 3.2343 - val_accuracy: 0.0201\n",
      "Epoch 16/30\n",
      "1/1 [==============================] - 3s 3s/step - loss: 3.0245 - accuracy: 1.0000 - val_loss: 3.2399 - val_accuracy: 0.0201\n",
      "Epoch 17/30\n",
      "1/1 [==============================] - 3s 3s/step - loss: 3.0144 - accuracy: 0.0000e+00 - val_loss: 3.2428 - val_accuracy: 0.0178\n",
      "Epoch 18/30\n",
      "1/1 [==============================] - 2s 2s/step - loss: 3.3743 - accuracy: 0.0000e+00 - val_loss: 3.2399 - val_accuracy: 0.0195\n",
      "Epoch 19/30\n",
      "1/1 [==============================] - 2s 2s/step - loss: 3.2873 - accuracy: 0.0000e+00 - val_loss: 3.2358 - val_accuracy: 0.0201\n",
      "Epoch 20/30\n",
      "1/1 [==============================] - 2s 2s/step - loss: 3.4860 - accuracy: 0.0000e+00 - val_loss: 3.2332 - val_accuracy: 0.0144\n",
      "Epoch 21/30\n",
      "1/1 [==============================] - 3s 3s/step - loss: 3.2557 - accuracy: 0.0000e+00 - val_loss: 3.2331 - val_accuracy: 0.0123\n",
      "Epoch 22/30\n",
      "1/1 [==============================] - 3s 3s/step - loss: 2.9756 - accuracy: 1.0000 - val_loss: 3.2391 - val_accuracy: 0.0201\n",
      "Epoch 23/30\n",
      "1/1 [==============================] - 3s 3s/step - loss: 3.2015 - accuracy: 0.0000e+00 - val_loss: 3.2390 - val_accuracy: 0.0201\n",
      "Epoch 24/30\n",
      "1/1 [==============================] - 3s 3s/step - loss: 3.3273 - accuracy: 0.0000e+00 - val_loss: 3.2339 - val_accuracy: 0.0201\n",
      "Epoch 25/30\n",
      "1/1 [==============================] - 3s 3s/step - loss: 3.1595 - accuracy: 0.0000e+00 - val_loss: 3.2336 - val_accuracy: 0.0201\n",
      "Epoch 26/30\n",
      "1/1 [==============================] - 3s 3s/step - loss: 3.1840 - accuracy: 0.0000e+00 - val_loss: 3.2341 - val_accuracy: 0.0201\n",
      "Epoch 27/30\n",
      "1/1 [==============================] - 3s 3s/step - loss: 3.0852 - accuracy: 0.0000e+00 - val_loss: 3.2346 - val_accuracy: 0.0201\n",
      "Epoch 28/30\n",
      "1/1 [==============================] - 3s 3s/step - loss: 3.1689 - accuracy: 0.0000e+00 - val_loss: 3.2318 - val_accuracy: 0.0201\n",
      "Epoch 29/30\n",
      "1/1 [==============================] - 3s 3s/step - loss: 3.0873 - accuracy: 0.0000e+00 - val_loss: 3.2330 - val_accuracy: 0.0199\n",
      "Epoch 30/30\n",
      "1/1 [==============================] - 2s 2s/step - loss: 2.9891 - accuracy: 0.0000e+00 - val_loss: 3.2354 - val_accuracy: 0.0402\n",
      "7172/7172 [==============================] - 3s 357us/sample - loss: 77.7932 - accuracy: 0.0402\n"
     ]
    },
    {
     "data": {
      "text/plain": [
       "[6.92426086682151, 0.56609035]"
      ]
     },
     "execution_count": 11,
     "metadata": {},
     "output_type": "execute_result"
    }
   ],
   "source": [
    "from tensorflow.keras import optimizers\n",
    "# Define the model\n",
    "# Use no more than 2 Conv2D and 2 MaxPooling2D\n",
    "model =  tf.keras.models.Sequential([\n",
    "    # This is the first convolution\n",
    "    tf.keras.layers.Conv2D(64, (3,3), activation='relu', input_shape=(28,28,1)),\n",
    "    tf.keras.layers.MaxPooling2D(2, 2),\n",
    "    # The second convolution\n",
    "    tf.keras.layers.Conv2D(64, (3,3), activation='relu'),\n",
    "    tf.keras.layers.MaxPooling2D(2,2),\n",
    "    # Flatten the results to feed into a DNN\n",
    "    tf.keras.layers.Flatten(),\n",
    "    tf.keras.layers.Dropout(0.01),\n",
    "    # 512 neuron hidden layer\n",
    "    tf.keras.layers.Dense(512, activation='relu'),\n",
    "    tf.keras.layers.Dense(25, activation='softmax')\n",
    "])\n",
    "\n",
    "# Compile Model. \n",
    "opt= optimizers.SGD(lr=0.01,decay=1e-6)\n",
    "model.compile(loss ='categorical_crossentropy', optimizer=opt, metrics=['accuracy'])\n",
    "\n",
    "# Train the Model\n",
    "history = model.fit_generator(train_datagen.flow(training_images, training_labels,batch_size=1),\n",
    "                                                 validation_data=validation_datagen.flow(testing_images, testing_labels),\n",
    "                                                 steps_per_epoch=1, epochs=30,verbose = 1)\n",
    "\n",
    "model.evaluate(testing_images, testing_labels)\n",
    "    \n",
    "# The output from model.evaluate should be close to:\n",
    "[6.92426086682151, 0.56609035]\n"
   ]
  },
  {
   "cell_type": "code",
   "execution_count": 12,
   "metadata": {},
   "outputs": [
    {
     "data": {
      "image/png": "[encoded data removed]",
      "text/plain": [
       "<Figure size 432x288 with 1 Axes>"
      ]
     },
     "metadata": {
      "needs_background": "light"
     },
     "output_type": "display_data"
    },
    {
     "data": {
      "text/plain": [
       "<Figure size 432x288 with 0 Axes>"
      ]
     },
     "metadata": {},
     "output_type": "display_data"
    }
   ],
   "source": [
    "# Plot the chart for accuracy and loss on both training and validation\n",
    "\n",
    "import matplotlib.pyplot as plt\n",
    "acc = history.history['accuracy']\n",
    "val_acc = history.history['val_accuracy']\n",
    "loss = history.history['loss']\n",
    "val_loss = history.history['val_loss']\n",
    "\n",
    "epochs = range(len(acc))\n",
    "\n",
    "plt.plot(epochs, acc, 'r', label='Training accuracy')\n",
    "plt.plot(epochs, val_acc, 'b', label='Validation accuracy')\n",
    "plt.title('Training and validation accuracy')\n",
    "plt.legend()\n",
    "plt.figure()\n",
    "\n",
    "plt.show()"
   ]
  },
  {
   "cell_type": "code",
   "execution_count": 13,
   "metadata": {},
   "outputs": [
    {
     "data": {
      "text/plain": [
       "<matplotlib.legend.Legend at 0x264399ae188>"
      ]
     },
     "execution_count": 13,
     "metadata": {},
     "output_type": "execute_result"
    },
    {
     "data": {
      "image/png": "[encoded data removed]",
      "text/plain": [
       "<Figure size 432x288 with 1 Axes>"
      ]
     },
     "metadata": {
      "needs_background": "light"
     },
     "output_type": "display_data"
    }
   ],
   "source": [
    "\n",
    "plt.plot(epochs, loss, 'r', label='Training Loss')\n",
    "plt.plot(epochs, val_loss, 'b', label='Validation Loss')\n",
    "plt.title('Training and validation loss')\n",
    "plt.legend()\n"
   ]
  },
  {
   "cell_type": "code",
   "execution_count": null,
   "metadata": {},
   "outputs": [],
   "source": []
  }
 ],
 "metadata": {
  "kernelspec": {
   "display_name": "Python 3",
   "language": "python",
   "name": "python3"
  },
  "language_info": {
   "codemirror_mode": {
    "name": "ipython",
    "version": 3
   },
   "file_extension": ".py",
   "mimetype": "text/x-python",
   "name": "python",
   "nbconvert_exporter": "python",
   "pygments_lexer": "ipython3",
   "version": "3.7.4"
  }
 },
 "nbformat": 4,
 "nbformat_minor": 2
}
