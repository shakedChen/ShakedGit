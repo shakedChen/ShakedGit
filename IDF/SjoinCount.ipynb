{
 "cells": [
  {
   "cell_type": "markdown",
   "metadata": {},
   "source": [
    "### sjoin_count\n",
    "__About__\n",
    " - Function calculates the number of times each entity from a particular layer is overlapped with another layer entities.\n",
    "\n",
    "__Input__\n",
    "- target_layer, other_layer --> two GeoDataFrames objects, the first GeoDataFrame will be the target \n",
    "dataset.\n",
    "- id1 --> (String obj type) name of id feature in target dataset.\n",
    "\n",
    "__Output__\n",
    "- A GeoDataFrame object, which is the target dataset, with one added 'count' feature,\n",
    "which contains the number of times each entity from the target dataset intersects with the entities from the other dataset."
   ]
  },
  {
   "cell_type": "code",
   "execution_count": 1,
   "metadata": {},
   "outputs": [],
   "source": [
    "import geopandas as gpd\n",
    "import pandas as pd"
   ]
  },
  {
   "cell_type": "code",
   "execution_count": 50,
   "metadata": {},
   "outputs": [],
   "source": [
    "def sjoin_count(target_layer, other_layer,id1):\n",
    "    #Spatial join\n",
    "    joined = gpd.sjoin(target_layer, other_layer)\n",
    "    joined['counter'] = None\n",
    "    joined['counter'] = joined.groupby(id1)[id1].transform('count')\n",
    "    joined= joined.drop_duplicates(subset= id1, keep='first')\n",
    "    \n",
    "    target_layer['count'] = 0\n",
    "    \n",
    "    for idx, row in joined.iterrows():\n",
    "        indexes= target_layer.index[target_layer['geometry'] == row['geometry']].tolist()\n",
    "        target_layer.at[indexes, 'count']=row['counter']\n",
    "        \n",
    "    return target_layer"
   ]
  },
  {
   "cell_type": "code",
   "execution_count": 56,
   "metadata": {},
   "outputs": [],
   "source": [
    "# upload data into GeoDataFrames objects\n",
    "business= gpd.read_file(r'C:\\Users\\Shaked Chen\\Desktop\\layers\\1.shp',encoding= 'utf-8')\n",
    "people_location= gpd.read_file(r'C:\\Users\\Shaked Chen\\Desktop\\layers\\points.shp',encoding= 'utf-8')\n",
    "people_location['id']= people_location.index\n",
    "#business['OBJECTID'] = business.index"
   ]
  },
  {
   "cell_type": "code",
   "execution_count": 57,
   "metadata": {},
   "outputs": [],
   "source": [
    "business = business.to_crs(people_location.crs)\n",
    "#business= business.drop(['descriptio','sub_class','CLASS','BLDG_NUM','BLDG_LETT','NUM_ENTER','entity','symbol','Shape_Area','Shape_Le_1','fin_source','BLDG_LETT2','STREET_N_3','BLDG_NUM2','BLDG_LETT3','NUM_FLOORS','NUM_APTS','STREET_N_2','street_cod','Shape_Leng','campus','NUM_BUSNS','BLDG_NUM3'],axis=1)"
   ]
  },
  {
   "cell_type": "code",
   "execution_count": 59,
   "metadata": {},
   "outputs": [],
   "source": [
    "s=sjoin_count(business, people_location,'OBJECTID')\n",
    "s.to_excel(r'C:\\Users\\Shaked Chen\\Desktop\\ShakedGit\\IDF\\output.xls')"
   ]
  },
  {
   "cell_type": "code",
   "execution_count": 60,
   "metadata": {},
   "outputs": [
    {
     "data": {
      "text/plain": [
       "0    245\n",
       "1      7\n",
       "3      2\n",
       "9      1\n",
       "7      1\n",
       "4      1\n",
       "2      1\n",
       "Name: count, dtype: int64"
      ]
     },
     "execution_count": 60,
     "metadata": {},
     "output_type": "execute_result"
    }
   ],
   "source": [
    "s['count'].value_counts()"
   ]
  },
  {
   "cell_type": "code",
   "execution_count": 55,
   "metadata": {},
   "outputs": [
    {
     "data": {
      "text/plain": [
       "RangeIndex(start=0, stop=258, step=1)"
      ]
     },
     "execution_count": 55,
     "metadata": {},
     "output_type": "execute_result"
    }
   ],
   "source": []
  },
  {
   "cell_type": "code",
   "execution_count": null,
   "metadata": {},
   "outputs": [],
   "source": []
  }
 ],
 "metadata": {
  "kernelspec": {
   "display_name": "Python 3",
   "language": "python",
   "name": "python3"
  },
  "language_info": {
   "codemirror_mode": {
    "name": "ipython",
    "version": 3
   },
   "file_extension": ".py",
   "mimetype": "text/x-python",
   "name": "python",
   "nbconvert_exporter": "python",
   "pygments_lexer": "ipython3",
   "version": "3.7.4"
  }
 },
 "nbformat": 4,
 "nbformat_minor": 2
}
